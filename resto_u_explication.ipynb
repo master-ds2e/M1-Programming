{
 "cells": [
  {
   "cell_type": "markdown",
   "metadata": {},
   "source": [
    "# Get universitary restaurants menus\n",
    "\n",
    "\n",
    "\n",
    "<a href=\"4_Regex.html\">Go back to Chapter 3</a> \n",
    "\n",
    "- First import module needed"
   ]
  },
  {
   "cell_type": "code",
   "execution_count": 1,
   "metadata": {},
   "outputs": [],
   "source": [
    "from bs4 import BeautifulSoup\n",
    "import urllib3\n",
    "import re\n",
    "import time\n",
    "import numpy as np"
   ]
  },
  {
   "cell_type": "markdown",
   "metadata": {},
   "source": [
    "- Select one page as an example, here we use gallia's restaurant\n"
   ]
  },
  {
   "cell_type": "code",
   "execution_count": 2,
   "metadata": {},
   "outputs": [
    {
     "data": {
      "text/plain": [
       "'https://www.crous-strasbourg.fr/restaurant/resto-u-esplanade-ouvert/'"
      ]
     },
     "execution_count": 2,
     "metadata": {},
     "output_type": "execute_result"
    }
   ],
   "source": [
    "urlpage = 'https://www.crous-strasbourg.fr/restaurant/resto-u-esplanade-ouvert/'\n",
    "urlpage"
   ]
  },
  {
   "cell_type": "markdown",
   "metadata": {},
   "source": [
    "- Get the html content using Beautiful soup"
   ]
  },
  {
   "cell_type": "code",
   "execution_count": 3,
   "metadata": {},
   "outputs": [
    {
     "data": {
      "text/plain": [
       "'<!DOCTYPE html>\\n\\n<html class=\"no-js\" lang=\"fr\">\\n<head>\\n<meta charset=\"utf-8\"/>\\n<meta content=\"width=device-width, initial-scale=1.0, maximum-scale=1.0, user-scalable=no\" name=\"viewport\"/>\\n<!--[if lt IE 9]>\\n\\t\\t\\t<script src=\"http://html5shiv.googlecode.com/svn/trunk/html5.js\"></script>\\n\\t\\t<![endif]-->\\n<link href=\"/wp-content/themes/crous/img/crous.ico\" rel=\"shortcut icon\"/>\\n<link href=\"https://cdnjs.cloudflare.com/ajax/libs/leaflet/0.7.7/leaflet.css\" rel=\"stylesheet\">\\n<script src=\"https://cdnjs.cloudflare.com/ajax/libs/leaflet/0.7.7/leaflet.js\"></script>\\n<script src=\"https://www.mapquestapi.com/sdk/leaflet/v2.2/mq-map.js?key=5SkA8njxRCCvI2CLsz1ek7lH4vpqypAE\"></script>\\n<!-- This site is optimized with the Yoast SEO plugin v4.9 - https://yoast.com/wordpress/plugins/seo/ -->\\n<title>Resto U\\' Esplanade - OUVERT - Crous de Strasbourg</title>\\n<link href=\"https://www.crous-strasbourg.fr/restaurant/resto-u-esplanade-ouvert/\" rel=\"canonical\"/>\\n<!-- / Yoast SEO plugin. -->\\n<link href=\"//s.w.org\" rel=\"dns-prefetch\"/>\\n<script type=\"text/javascript\">\\n\\t\\t\\twindow._wpemojiSettings = {\"baseUrl\":\"https:\\\\/\\\\/s.w.org\\\\/images\\\\/core\\\\/emoji\\\\/2.2.1\\\\/72x72\\\\/\",\"ext\":\".png\",\"svgUrl\":\"https:\\\\/\\\\/s.w.org\\\\/images\\\\/core\\\\/emoji\\\\/2.2.1\\\\/svg\\\\/\",\"svgExt\":\".svg\",\"source\":{\"concatemoji\":\"https:\\\\/\\\\/www.crous-strasbourg.fr\\\\/wp-includes\\\\/js\\\\/wp-emoji-release.min.js?ver=4.7.5\"}};\\n\\t\\t\\t!function(a,b,c){function d(a){var b,c,d,e,f=String.fromCharCode;if(!k||!k.fillText)return!1;switch(k.clearRect(0,0,j.width,j.height),k.textBaseline=\"top\",k.font=\"600 32px Arial\",a){case\"flag\":return k.fillText(f(55356,56826,55356,56819),0,0),!(j.toDataURL().length<3e3)&&(k.clearRect(0,0,j.width,j.height),k.fillText(f(55356,57331,65039,8205,55356,57096),0,0),b=j.toDataURL(),k.clearRect(0,0,j.width,j.height),k.fillText(f(55356,57331,55356,57096),0,0),c=j.toDataURL(),b!==c);case\"emoji4\":return k.fillText(f(55357,56425,55356,57341,8205,55357,56507),0,0),d=j.toDataURL(),k.clearRect(0,0,j.width,j.height),k.fillText(f(55357,56425,55356,57341'"
      ]
     },
     "execution_count": 3,
     "metadata": {},
     "output_type": "execute_result"
    }
   ],
   "source": [
    "req = urllib3.PoolManager()\n",
    "res = req.request('GET', urlpage)\n",
    "soup = BeautifulSoup(res.data, 'html.parser')\n",
    "str(soup)[:2000]"
   ]
  },
  {
   "cell_type": "markdown",
   "metadata": {},
   "source": [
    "- Find out how you will get the information you want: with a right click you have previously inspect the webpage with your navigator. ```'content-repas'``` seems to be a good option to get meals in a structured way.  \n",
    "```'content-repas'``` is the html class and ```'div'```is the element. See how it is written ```<div class=\"content-repas\">```\n",
    "\n",
    "- Have a look on the content after specifiying the type of element and class you wanted to match. There is three different meal types in a day so we know that the first three elements will constitute the first day. \n"
   ]
  },
  {
   "cell_type": "code",
   "execution_count": 4,
   "metadata": {},
   "outputs": [
    {
     "data": {
      "text/plain": [
       "[<div class=\"content-repas\"><div><span class=\"name\">Pas de service</span></div></div>,\n",
       " <div class=\"content-repas\"><div><span class=\"name\">Pôle Ici et Ailleurs</span><ul class=\"liste-plats\"><li>UNIQUEMENT A EMPORTER</li><li></li><li>Boulettes de viande (boeuf et porc) maison</li><li>Sauce forestière</li><li>Gratin dauphinois</li><li>Brocolis</li></ul><span class=\"name\">Pôle végétarien</span><ul class=\"liste-plats\"><li>Colombo de légumes au lait de coco</li></ul><span class=\"name\">Cristal Shop (RDC)</span><ul class=\"liste-plats\"><li>UNIQUEMENT A EMPORTER</li><li></li><li>Burger du jour</li><li>Pizza du jour</li></ul><span class=\"name\">Desserts maison</span><ul class=\"liste-plats\"><li>Gâteau de patates douces maison</li></ul><span class=\"name\">Pôle Pêche du jour</span><ul class=\"liste-plats\"><li>menu non communiqué</li></ul></div></div>,\n",
       " <div class=\"content-repas\"><div><span class=\"name\">Pas de service</span></div></div>]"
      ]
     },
     "execution_count": 4,
     "metadata": {},
     "output_type": "execute_result"
    }
   ],
   "source": [
    "# Return elements that matched the html class in a list\n",
    "content = soup.find_all('div' ,class_= 'content-repas')\n",
    "content[:3]"
   ]
  },
  {
   "cell_type": "markdown",
   "metadata": {},
   "source": [
    "- We still not have the date for each meal in a given restaurant, we know that it's another day because there is 3 meals, but what if one is closed let's say a Satursday and show the menu of Monday directly ? I didn't think about it last time but we need to take it into account."
   ]
  },
  {
   "cell_type": "markdown",
   "metadata": {},
   "source": [
    "- Let's first create a function to get the webpage, the arguments to get a flexible function could be: \n",
    "    - url of the page\n",
    "    - element of the html\n",
    "    - class"
   ]
  },
  {
   "cell_type": "code",
   "execution_count": 5,
   "metadata": {},
   "outputs": [],
   "source": [
    "def get_page(urlpage,element ,html_class):\n",
    "    \"\"\"\n",
    "    From an link and a html class that you select by inspecting manually the page\n",
    "    Return a list with elements that matched this class\n",
    "    \"\"\"\n",
    "    # Get page in html\n",
    "    req = urllib3.PoolManager()\n",
    "    res = req.request('GET', urlpage)\n",
    "    soup = BeautifulSoup(res.data, 'html.parser')\n",
    "    \n",
    "    # Return elements that matched the html class in a list\n",
    "    content = soup.find_all(element ,class_= html_class)\n",
    "    \n",
    "    return content "
   ]
  },
  {
   "cell_type": "code",
   "execution_count": 6,
   "metadata": {},
   "outputs": [
    {
     "data": {
      "text/plain": [
       "[<ul class=\"slides\">\n",
       " <li>\n",
       " <h3>Menu du jeudi 28 janvier 2021</h3>\n",
       " <div class=\"content clearfix\">\n",
       " <div><h4>Petit déjeuner</h4><div class=\"content-repas\"><div><span class=\"name\">Pas de service</span></div></div></div>\n",
       " <div><h4>Déjeuner</h4><div class=\"content-repas\"><div><span class=\"name\">Menu étudiant</span><ul class=\"liste-plats\"><li>Risotto au bœuf</li><li></li><li>Escalope viennoise</li><li>Semoule</li><li>Légumes</li><li></li><li>Pizza paysanne</li></ul><span class=\"name\">Végétarien ou végétal</span><ul class=\"liste-plats\"><li>Clafoutis aux tomates cerises</li><li>Salade verte</li><li></li><li>Tchoutchouka</li></ul><span class=\"name\">Brasserie</span><ul class=\"liste-plats\"><li>menu non communiqué</li></ul></div></div></div>\n",
       " <div><h4>Dîner</h4><div class=\"content-repas\"><div><span class=\"name\">Pas de service</span></div></div></div>\n",
       " </div>\n",
       " </li>\n",
       " <li>\n",
       " <h3>Menu du vendredi 29 janvier 2021</h3>\n",
       " <div class=\"content clearfix\">\n",
       " <div><h4>Petit déjeuner</h4><div class=\"content-repas\"><div><span class=\"name\">Pas de service</span></div></div></div>\n",
       " <div><h4>Déjeuner</h4><div class=\"content-repas\"><div><span class=\"name\">Menu étudiant</span><ul class=\"liste-plats\"><li>Morbiflette</li><li>Salade verte</li><li></li><li>Pad Thaï de dinde</li></ul><span class=\"name\">Végétarien ou végétal</span><ul class=\"liste-plats\"><li>Enchillada aux légumes et chèvre</li></ul><span class=\"name\">Brasserie</span><ul class=\"liste-plats\"><li>menu non communiqué</li></ul></div></div></div>\n",
       " <div><h4>Dîner</h4><div class=\"content-repas\"><div><span class=\"name\">Pas de service</span></div></div></div>\n",
       " </div>\n",
       " </li>\n",
       " </ul>]"
      ]
     },
     "execution_count": 6,
     "metadata": {},
     "output_type": "execute_result"
    }
   ],
   "source": [
    "content = get_page('http://www.crous-strasbourg.fr/restaurant/resto-u-gallia-ouvert/',\n",
    "                'ul','slides')\n",
    "content"
   ]
  },
  {
   "cell_type": "markdown",
   "metadata": {},
   "source": [
    "\n",
    "- We want everything between ```<div class=\"content-repas\"><div>``` and the first ```</div>``` that appears, we can just catch the group of character between these two entities. Create a group with ```()``` to extract this part with ```re.findall``` :\n",
    "    - This group can be composed of everything so specify a ```.```.\n",
    "    - We can have 0 or more charater so put a ```*```after the ```.```.\n",
    "    - Finally the ```?``` will control for the repetition ```</div>```, so when it will meet the first ```</div>```, it will stop.\n",
    " \n",
    "- You will then try to find if there is some stuff in your string that match this condition. The regex will be written ```'<div class=\"content-repas\"><div>(.*?)</div>'```. Of course it doen't mean there are no other way of doing it or even writting it, but it works and it's pretty simple to read.\n"
   ]
  },
  {
   "cell_type": "code",
   "execution_count": 7,
   "metadata": {},
   "outputs": [
    {
     "data": {
      "text/plain": [
       "['<span class=\"name\">Pas de service</span>',\n",
       " '<span class=\"name\">Menu étudiant</span><ul class=\"liste-plats\"><li>Risotto au bœuf</li><li></li><li>Escalope viennoise</li><li>Semoule</li><li>Légumes</li><li></li><li>Pizza paysanne</li></ul><span class=\"name\">Végétarien ou végétal</span><ul class=\"liste-plats\"><li>Clafoutis aux tomates cerises</li><li>Salade verte</li><li></li><li>Tchoutchouka</li></ul><span class=\"name\">Brasserie</span><ul class=\"liste-plats\"><li>menu non communiqué</li></ul>',\n",
       " '<span class=\"name\">Pas de service</span>',\n",
       " '<span class=\"name\">Pas de service</span>',\n",
       " '<span class=\"name\">Menu étudiant</span><ul class=\"liste-plats\"><li>Morbiflette</li><li>Salade verte</li><li></li><li>Pad Thaï de dinde</li></ul><span class=\"name\">Végétarien ou végétal</span><ul class=\"liste-plats\"><li>Enchillada aux légumes et chèvre</li></ul><span class=\"name\">Brasserie</span><ul class=\"liste-plats\"><li>menu non communiqué</li></ul>',\n",
       " '<span class=\"name\">Pas de service</span>']"
      ]
     },
     "execution_count": 7,
     "metadata": {},
     "output_type": "execute_result"
    }
   ],
   "source": [
    "dates = re.findall('<h3>(.*?)</h3>',str(content))\n",
    "content = re.findall('<div class=\"content-repas\"><div>(.*?)</div>',str(content))\n",
    "\n",
    "content"
   ]
  },
  {
   "cell_type": "code",
   "execution_count": 8,
   "metadata": {},
   "outputs": [
    {
     "data": {
      "text/plain": [
       "['Menu du jeudi 28 janvier 2021', 'Menu du vendredi 29 janvier 2021']"
      ]
     },
     "execution_count": 8,
     "metadata": {},
     "output_type": "execute_result"
    }
   ],
   "source": [
    "dates"
   ]
  },
  {
   "cell_type": "markdown",
   "metadata": {},
   "source": [
    "- It seems that we are interested by two things : \n",
    "    - Which pole is it ?  \n",
    "    ```<span class=\"name\"></span>``` gives us the name, when no place within the restaurant are open, it is written ```Pas de service```, otherwise it can be written ```Pôle Pêche du jour```for example.\n",
    "    \n",
    "    - What we will eat there ?      \n",
    "    ```<ul class=\"liste-plats\"></ul>``` gives us the meal list, when no place within the restaurant are open there is no ```<ul class=\"liste-plats\">```\n",
    " \n",
    "- Let's select the second meal of the day and see names that we get, by comparing with the previous cell it seems that we have everything that we need"
   ]
  },
  {
   "cell_type": "code",
   "execution_count": 9,
   "metadata": {},
   "outputs": [
    {
     "data": {
      "text/plain": [
       "['Menu étudiant', 'Végétarien ou végétal', 'Brasserie']"
      ]
     },
     "execution_count": 9,
     "metadata": {},
     "output_type": "execute_result"
    }
   ],
   "source": [
    "names = re.findall('<span class=\"name\">(.*?)</span>',\n",
    "                   str(content[1]))\n",
    "names"
   ]
  },
  {
   "cell_type": "markdown",
   "metadata": {},
   "source": [
    "- You can do the exact same thing to get the meals\n"
   ]
  },
  {
   "cell_type": "code",
   "execution_count": 10,
   "metadata": {},
   "outputs": [
    {
     "data": {
      "text/plain": [
       "['<li>Risotto au bœuf</li><li></li><li>Escalope viennoise</li><li>Semoule</li><li>Légumes</li><li></li><li>Pizza paysanne</li>',\n",
       " '<li>Clafoutis aux tomates cerises</li><li>Salade verte</li><li></li><li>Tchoutchouka</li>',\n",
       " '<li>menu non communiqué</li>']"
      ]
     },
     "execution_count": 10,
     "metadata": {},
     "output_type": "execute_result"
    }
   ],
   "source": [
    "meals = re.findall('<ul class=\"liste-plats\">(.*?)</ul>',\n",
    "                   str(content[1]))\n",
    "meals  "
   ]
  },
  {
   "cell_type": "markdown",
   "metadata": {},
   "source": [
    "- It's still very dirty down there, let's clean it up!\n",
    "\n",
    "- Let's retrieve everything within ```<li></li>``` as same as before. The only differences is that we already have a list of information so we store a list in a list using list comprehension."
   ]
  },
  {
   "cell_type": "code",
   "execution_count": 11,
   "metadata": {},
   "outputs": [
    {
     "data": {
      "text/plain": [
       "[['Risotto au bœuf',\n",
       "  '',\n",
       "  'Escalope viennoise',\n",
       "  'Semoule',\n",
       "  'Légumes',\n",
       "  '',\n",
       "  'Pizza paysanne'],\n",
       " ['Clafoutis aux tomates cerises', 'Salade verte', '', 'Tchoutchouka'],\n",
       " ['menu non communiqué']]"
      ]
     },
     "execution_count": 11,
     "metadata": {},
     "output_type": "execute_result"
    }
   ],
   "source": [
    "meals_list = [re.findall('<li>(.*?)</li>',item) for item in meals]\n",
    "meals_list"
   ]
  },
  {
   "cell_type": "markdown",
   "metadata": {},
   "source": [
    "- There is some stuffs that we don't care about, as the ```''``` or the ```'UNIQUEMENT A EMPORTER'``` etc etc. Let's remove them:\n",
    "   - Create a list with words that you want to throw away\n",
    "   - Filter out all words that are not in the list\n"
   ]
  },
  {
   "cell_type": "code",
   "execution_count": 12,
   "metadata": {},
   "outputs": [
    {
     "data": {
      "text/plain": [
       "[['Risotto au bœuf',\n",
       "  'Escalope viennoise',\n",
       "  'Semoule',\n",
       "  'Légumes',\n",
       "  'Pizza paysanne'],\n",
       " ['Clafoutis aux tomates cerises', 'Salade verte', 'Tchoutchouka'],\n",
       " ['menu non communiqué']]"
      ]
     },
     "execution_count": 12,
     "metadata": {},
     "output_type": "execute_result"
    }
   ],
   "source": [
    "to_remove =  ['UNIQUEMENT A EMPORTER','A EMPORTER','','-','ou']\n",
    "clean_meals_list = [list(filter(lambda x: x not in to_remove,meals)) for meals in meals_list]\n",
    "clean_meals_list"
   ]
  },
  {
   "cell_type": "markdown",
   "metadata": {},
   "source": [
    "- Let's store it in a dict"
   ]
  },
  {
   "cell_type": "code",
   "execution_count": 13,
   "metadata": {},
   "outputs": [
    {
     "data": {
      "text/plain": [
       "{'Menu étudiant': ['Risotto au bœuf',\n",
       "  'Escalope viennoise',\n",
       "  'Semoule',\n",
       "  'Légumes',\n",
       "  'Pizza paysanne'],\n",
       " 'Végétarien ou végétal': ['Clafoutis aux tomates cerises',\n",
       "  'Salade verte',\n",
       "  'Tchoutchouka'],\n",
       " 'Brasserie': ['menu non communiqué']}"
      ]
     },
     "execution_count": 13,
     "metadata": {},
     "output_type": "execute_result"
    }
   ],
   "source": [
    "# Create a Dict with the name of the pole as key and meal content as value\n",
    "dict_content = {name : meal for name, meal in zip(names,clean_meals_list)}\n",
    "dict_content"
   ]
  },
  {
   "cell_type": "markdown",
   "metadata": {},
   "source": [
    "- We do know now two things :\n",
    "   - Download the content of each meal and store in a dirty list\n",
    "   - Clean up individually the list to get names and meals for a given restaurant.\n",
    "   \n",
    "- let's create a function!\n",
    "   - Get the each meal and each name for a given restaurant and for a given schedule, we just need the whole content of this given meal.  \n",
    "   We will need to loop over each schedule by keeping in mind that every 3 schedules the date change."
   ]
  },
  {
   "cell_type": "code",
   "execution_count": 14,
   "metadata": {},
   "outputs": [],
   "source": [
    "def get_menu(content):\n",
    "    \"\"\"\n",
    "    Get meal content, pole names, clean the menu and store it in a dict\n",
    "    \"\"\"\n",
    "    # Extract first titles using the class 'name'\n",
    "    names = re.findall('<span class=\"name\">(.*?)</span>',str(content))\n",
    "    \n",
    "    # Extract meals with the class 'liste-plats'\n",
    "    meals = re.findall('<ul class=\"liste-plats\">(.*?)</ul>',str(content))\n",
    "    \n",
    "    # Select everything within 'li' tags\n",
    "    meals_list = [re.findall('<li>(.*?)</li>',item) for item in meals]\n",
    "    \n",
    "    # Remove some words that you want to throwaway\n",
    "    to_remove =  ['UNIQUEMENT A EMPORTER','A EMPORTER','','-','ou']\n",
    "    clean_meals_list = [list(filter(lambda x: x not in to_remove,meals)) for meals in meals_list]\n",
    "    \n",
    "    # Create a Dict with the name of the pole as key and meal content as value\n",
    "    dict_content = {name : meal for name, meal in zip(names,clean_meals_list)}\n",
    "    \n",
    "    return dict_content"
   ]
  },
  {
   "cell_type": "markdown",
   "metadata": {},
   "source": [
    "- Now we need to get all restaurants urls, we will them here :\n",
    " https://www.crous-strasbourg.fr/restauration/vos-restaurants-et-leurs-menus/\n",
    "\n",
    "- Use the get_page function, specify ```'div'``` and ```''links'``` because we want to catch up ```<div class=\"links\">```.\n"
   ]
  },
  {
   "cell_type": "code",
   "execution_count": 15,
   "metadata": {},
   "outputs": [
    {
     "data": {
      "text/plain": [
       "[<div class=\"links\">\n",
       " <a class=\"link-marker\" href=\"#r907\">Voir sur la carte</a>\n",
       " <a class=\"link\" href=\"http://www.crous-strasbourg.fr/restaurant/cybercafe-ru-illberg-ferme/\">En savoir plus</a>\n",
       " </div>,\n",
       " <div class=\"links\">\n",
       " <a class=\"link-marker\" href=\"#r909\">Voir sur la carte</a>\n",
       " <a class=\"link\" href=\"http://www.crous-strasbourg.fr/restaurant/resto-u-gallia-ouvert/\">En savoir plus</a>\n",
       " </div>,\n",
       " <div class=\"links\">\n",
       " <a class=\"link-marker\" href=\"#r1105\">Voir sur la carte</a>\n",
       " <a class=\"link\" href=\"http://www.crous-strasbourg.fr/restaurant/learning-center-ferme/\">En savoir plus</a>\n",
       " </div>,\n",
       " <div class=\"links\">\n",
       " <a class=\"link-marker\" href=\"#r1102\">Voir sur la carte</a>\n",
       " <a class=\"link\" href=\"http://www.crous-strasbourg.fr/restaurant/cafeteria-le-cardo-ferme/\">En savoir plus</a>\n",
       " </div>,\n",
       " <div class=\"links\">\n",
       " <a class=\"link-marker\" href=\"#r551\">Voir sur la carte</a>\n",
       " <a class=\"link\" href=\"http://www.crous-strasbourg.fr/restaurant/resto-u-paul-appell-ouvert/\">En savoir plus</a>\n",
       " </div>]"
      ]
     },
     "execution_count": 15,
     "metadata": {},
     "output_type": "execute_result"
    }
   ],
   "source": [
    "urlpage = 'https://www.crous-strasbourg.fr/restauration/vos-restaurants-et-leurs-menus/'\n",
    "   \n",
    "links = get_page(urlpage,'div','links')\n",
    "links[:5]"
   ]
  },
  {
   "cell_type": "markdown",
   "metadata": {},
   "source": [
    "- We see first that links that are interesting for us are opened restaurant. That's great because it's written in the url!\n",
    "\n",
    "- Loop over links' list, check if we match ```ouvert``` in the url.\n",
    "   - Capture the name of the restaurant and the appropriate link\n",
    "   - Store it in a dict"
   ]
  },
  {
   "cell_type": "code",
   "execution_count": 16,
   "metadata": {},
   "outputs": [
    {
     "data": {
      "text/plain": [
       "{'resto-u-gallia': 'http://www.crous-strasbourg.fr/restaurant/resto-u-gallia-ouvert/',\n",
       " 'resto-u-paul-appell': 'http://www.crous-strasbourg.fr/restaurant/resto-u-paul-appell-ouvert/',\n",
       " 'resto-u-esplanade': 'http://www.crous-strasbourg.fr/restaurant/resto-u-esplanade-ouvert/',\n",
       " 'resto-u-cronenbourg': 'http://www.crous-strasbourg.fr/restaurant/resto-u-cronenbourg-ouvert/',\n",
       " 'resto-u-illkirch': 'http://www.crous-strasbourg.fr/restaurant/resto-u-illkirch-ouvert/',\n",
       " 'resto-u-de-lillberg': 'http://www.crous-strasbourg.fr/restaurant/resto-u-de-lillberg-ouvert/',\n",
       " 'resto-u-de-liut-mulhouse': 'http://www.crous-strasbourg.fr/restaurant/resto-u-de-liut-mulhouse-ouvert/',\n",
       " 'resto-u-de-colmar': 'http://www.crous-strasbourg.fr/restaurant/resto-u-de-colmar-ouvert/',\n",
       " 'le-cristal-shop-ru-esplanade': 'http://www.crous-strasbourg.fr/restaurant/le-cristal-shop-ru-esplanade-ouvert/'}"
      ]
     },
     "execution_count": 16,
     "metadata": {},
     "output_type": "execute_result"
    }
   ],
   "source": [
    "# Create an empty dict\n",
    "names_links = {}\n",
    "\n",
    "# Iterate over each link\n",
    "for link in links:\n",
    "    # Check if the restaurant is open, it is written in the url !\n",
    "    if bool(re.search('ouvert',str(link))):\n",
    "        # Extract the name of the restaurant\n",
    "        name = re.findall('restaurant/(.*)-ouvert/',str(link))[0]\n",
    "        # Extract the link\n",
    "        link = re.search('http:.*ouvert/',str(link)).group()\n",
    "        # Update the dict\n",
    "        names_links.update({name : link})\n",
    "\n",
    "names_links"
   ]
  },
  {
   "cell_type": "markdown",
   "metadata": {},
   "source": [
    "- Let's put it in a function with no argument"
   ]
  },
  {
   "cell_type": "code",
   "execution_count": 17,
   "metadata": {},
   "outputs": [],
   "source": [
    "def get_all_links():\n",
    "    \"\"\"\n",
    "    Get all restaurants links and create a dict of link with ru_names as keys\n",
    "    \"\"\"\n",
    "    # Webpage from which we extract all links\n",
    "    urlpage = 'https://www.crous-strasbourg.fr/restauration/vos-restaurants-et-leurs-menus/'\n",
    "    \n",
    "    # Use our get_page function to extract a list with all list\n",
    "    links = get_page(urlpage,'div','links')\n",
    "    \n",
    "    # Create an empty dict\n",
    "    names_links = {}\n",
    "    \n",
    "    # Iterate over each link\n",
    "    for link in links:\n",
    "        # Check if the restaurant is open, it is written in the url !\n",
    "        if bool(re.search('ouvert',str(link))):\n",
    "            # Extract the name of the restaurant\n",
    "            name = re.findall('restaurant/(.*)-ouvert/',str(link))[0]\n",
    "            # Extract the link\n",
    "            link = re.search('http:.*ouvert/',str(link)).group()\n",
    "            # Update the dict\n",
    "            names_links.update({name : link})\n",
    "            \n",
    "    return names_links\n",
    "    "
   ]
  },
  {
   "cell_type": "markdown",
   "metadata": {},
   "source": [
    "- We can now make a try to get all the information for a restaurant, let's try for the 2 first days (6 meals)"
   ]
  },
  {
   "cell_type": "code",
   "execution_count": 18,
   "metadata": {},
   "outputs": [
    {
     "data": {
      "text/plain": [
       "['<span class=\"name\">Pas de service</span>',\n",
       " '<span class=\"name\">Pôle Ici et Ailleurs</span><ul class=\"liste-plats\"><li>UNIQUEMENT A EMPORTER</li><li></li><li>Boulettes de viande (boeuf et porc) maison</li><li>Sauce forestière</li><li>Gratin dauphinois</li><li>Brocolis</li></ul><span class=\"name\">Pôle végétarien</span><ul class=\"liste-plats\"><li>Colombo de légumes au lait de coco</li></ul><span class=\"name\">Cristal Shop (RDC)</span><ul class=\"liste-plats\"><li>UNIQUEMENT A EMPORTER</li><li></li><li>Burger du jour</li><li>Pizza du jour</li></ul><span class=\"name\">Desserts maison</span><ul class=\"liste-plats\"><li>Gâteau de patates douces maison</li></ul><span class=\"name\">Pôle Pêche du jour</span><ul class=\"liste-plats\"><li>menu non communiqué</li></ul>',\n",
       " '<span class=\"name\">Pas de service</span>',\n",
       " '<span class=\"name\">Pas de service</span>',\n",
       " '<span class=\"name\">Pôle Ici et Ailleurs</span><ul class=\"liste-plats\"><li>menu non communiqué</li></ul><span class=\"name\">Pôle végétarien</span><ul class=\"liste-plats\"><li>UNIQUEMENT A EMPORTER</li><li></li><li>Pizza végétarienne maison</li><li>Salade verte</li></ul><span class=\"name\">Cristal Shop (RDC)</span><ul class=\"liste-plats\"><li>UNIQUEMENT A EMPORTER</li><li></li><li>Burger du jour</li><li>Pizza du jour</li></ul><span class=\"name\">Desserts maison</span><ul class=\"liste-plats\"><li>Financier aux myrtilles maison</li></ul><span class=\"name\">Pôle Pêche du jour</span><ul class=\"liste-plats\"><li>UNIQUEMENT A EMPORTER</li><li></li><li>Tartiflette irlandaise</li><li>Salade verte</li></ul>',\n",
       " '<span class=\"name\">Pas de service</span>']"
      ]
     },
     "execution_count": 18,
     "metadata": {},
     "output_type": "execute_result"
    }
   ],
   "source": [
    "n_days = 2\n",
    "page = get_page('https://www.crous-strasbourg.fr/restaurant/resto-u-esplanade-ouvert/','ul','slides')\n",
    "dates = re.findall('<h3>(.*?)</h3>',str(page))[:n_days]\n",
    "restaurant = re.findall('<div class=\"content-repas\"><div>(.*?)</div>',str(page))[:n_days*3]\n",
    "restaurant"
   ]
  },
  {
   "cell_type": "code",
   "execution_count": 19,
   "metadata": {},
   "outputs": [
    {
     "data": {
      "text/plain": [
       "['Menu du jeudi 28 janvier 2021', 'Menu du vendredi 29 janvier 2021']"
      ]
     },
     "execution_count": 19,
     "metadata": {},
     "output_type": "execute_result"
    }
   ],
   "source": [
    "dates"
   ]
  },
  {
   "cell_type": "code",
   "execution_count": 20,
   "metadata": {},
   "outputs": [
    {
     "name": "stdout",
     "output_type": "stream",
     "text": [
      "{}\n",
      "{'Pôle Ici et Ailleurs': ['Boulettes de viande (boeuf et porc) maison', 'Sauce forestière', 'Gratin dauphinois', 'Brocolis'], 'Pôle végétarien': ['Colombo de légumes au lait de coco'], 'Cristal Shop (RDC)': ['Burger du jour', 'Pizza du jour'], 'Desserts maison': ['Gâteau de patates douces maison'], 'Pôle Pêche du jour': ['menu non communiqué']}\n",
      "{}\n",
      "{}\n",
      "{'Pôle Ici et Ailleurs': ['menu non communiqué'], 'Pôle végétarien': ['Pizza végétarienne maison', 'Salade verte'], 'Cristal Shop (RDC)': ['Burger du jour', 'Pizza du jour'], 'Desserts maison': ['Financier aux myrtilles maison'], 'Pôle Pêche du jour': ['Tartiflette irlandaise', 'Salade verte']}\n",
      "{}\n"
     ]
    }
   ],
   "source": [
    "for meal in restaurant:\n",
    "    print(get_menu(meal))"
   ]
  },
  {
   "cell_type": "markdown",
   "metadata": {},
   "source": [
    "- It seems that everything works fine, let's put all together!\n",
    "\n",
    "- The basis of our final step will be as follow:\n",
    "   - Get all links\n",
    "   - Iterate on it"
   ]
  },
  {
   "cell_type": "code",
   "execution_count": 21,
   "metadata": {},
   "outputs": [],
   "source": [
    "links = get_all_links()"
   ]
  },
  {
   "cell_type": "code",
   "execution_count": 22,
   "metadata": {},
   "outputs": [],
   "source": [
    "n_days = 2\n",
    "page = get_page('https://www.crous-strasbourg.fr/restaurant/resto-u-esplanade-ouvert/','ul','slides')\n",
    "dates = re.findall('<h3>(.*?)</h3>',str(page))[:n_days]\n",
    "restaurant = re.findall('<div class=\"content-repas\"><div>(.*?)</div>',str(page))[:n_days*3]\n",
    "for meal in restaurant:\n",
    "    get_menu(meal)"
   ]
  },
  {
   "cell_type": "markdown",
   "metadata": {},
   "source": [
    "- Now we just need to think about how storing it: a dict is a good solution, once each date is set we just need to update the dict with the next restaurant!"
   ]
  },
  {
   "cell_type": "code",
   "execution_count": 23,
   "metadata": {},
   "outputs": [
    {
     "data": {
      "text/plain": [
       "{'Menu du jeudi 28 janvier 2021': {'breakfast': {}, 'lunch': {}, 'dinner': {}},\n",
       " 'Menu du vendredi 29 janvier 2021': {'breakfast': {},\n",
       "  'lunch': {},\n",
       "  'dinner': {}}}"
      ]
     },
     "execution_count": 23,
     "metadata": {},
     "output_type": "execute_result"
    }
   ],
   "source": [
    "all_ru_menu = {}\n",
    "meal_keys = ['breakfast','lunch','dinner']\n",
    "for date in dates:\n",
    "        if date not in all_ru_menu:\n",
    "            all_ru_menu.update({date:{meal:{} for meal in meal_keys}})\n",
    "all_ru_menu"
   ]
  },
  {
   "cell_type": "markdown",
   "metadata": {},
   "source": [
    "- Why are we doing it ? If a date is new to the dict we need to set this key before trying to update its values  \n",
    "If we update a dict this way ```dict.update({key1:{key2:values}})``` we are removing everything before  in ```key1```.  \n",
    "Then by creating the key before trying to update it, we can easily access to the dict to update new restaurant like this: ```dict[key1].update({key2:values})```.\n",
    "\n",
    "- Also to have date, meal type, and restaurant menu that evolve together we can zip the three elements in order to use them in the loop."
   ]
  },
  {
   "cell_type": "code",
   "execution_count": 24,
   "metadata": {},
   "outputs": [
    {
     "name": "stdout",
     "output_type": "stream",
     "text": [
      "['Menu du jeudi 28 janvier 2021', 'Menu du jeudi 28 janvier 2021', 'Menu du jeudi 28 janvier 2021', 'Menu du vendredi 29 janvier 2021', 'Menu du vendredi 29 janvier 2021', 'Menu du vendredi 29 janvier 2021']\n",
      "['breakfast', 'lunch', 'dinner', 'breakfast', 'lunch', 'dinner']\n",
      "['<span class=\"name\">Pas de service</span>', '<span class=\"name\">Pôle Ici et Ailleurs</span><ul class=\"liste-plats\"><li>UNIQUEMENT A EMPORTER</li><li></li><li>Boulettes de viande (boeuf et porc) maison</li><li>Sauce forestière</li><li>Gratin dauphinois</li><li>Brocolis</li></ul><span class=\"name\">Pôle végétarien</span><ul class=\"liste-plats\"><li>Colombo de légumes au lait de coco</li></ul><span class=\"name\">Cristal Shop (RDC)</span><ul class=\"liste-plats\"><li>UNIQUEMENT A EMPORTER</li><li></li><li>Burger du jour</li><li>Pizza du jour</li></ul><span class=\"name\">Desserts maison</span><ul class=\"liste-plats\"><li>Gâteau de patates douces maison</li></ul><span class=\"name\">Pôle Pêche du jour</span><ul class=\"liste-plats\"><li>menu non communiqué</li></ul>', '<span class=\"name\">Pas de service</span>', '<span class=\"name\">Pas de service</span>', '<span class=\"name\">Pôle Ici et Ailleurs</span><ul class=\"liste-plats\"><li>menu non communiqué</li></ul><span class=\"name\">Pôle végétarien</span><ul class=\"liste-plats\"><li>UNIQUEMENT A EMPORTER</li><li></li><li>Pizza végétarienne maison</li><li>Salade verte</li></ul><span class=\"name\">Cristal Shop (RDC)</span><ul class=\"liste-plats\"><li>UNIQUEMENT A EMPORTER</li><li></li><li>Burger du jour</li><li>Pizza du jour</li></ul><span class=\"name\">Desserts maison</span><ul class=\"liste-plats\"><li>Financier aux myrtilles maison</li></ul><span class=\"name\">Pôle Pêche du jour</span><ul class=\"liste-plats\"><li>UNIQUEMENT A EMPORTER</li><li></li><li>Tartiflette irlandaise</li><li>Salade verte</li></ul>', '<span class=\"name\">Pas de service</span>']\n"
     ]
    },
    {
     "data": {
      "text/plain": [
       "<zip at 0x1219043b680>"
      ]
     },
     "execution_count": 24,
     "metadata": {},
     "output_type": "execute_result"
    }
   ],
   "source": [
    "print(np.repeat(dates,3).tolist())\n",
    "print(meal_keys*n_days)\n",
    "print(restaurant)\n",
    "\n",
    "zip(np.repeat(dates,3).tolist(),meal_keys*n_days,restaurant)"
   ]
  },
  {
   "cell_type": "code",
   "execution_count": 25,
   "metadata": {},
   "outputs": [
    {
     "name": "stdout",
     "output_type": "stream",
     "text": [
      "retrieve menu of the resto-u-gallia\n",
      "retrieve menu of the resto-u-paul-appell\n",
      "retrieve menu of the resto-u-esplanade\n",
      "retrieve menu of the resto-u-cronenbourg\n",
      "retrieve menu of the resto-u-illkirch\n",
      "retrieve menu of the resto-u-de-lillberg\n",
      "retrieve menu of the resto-u-de-liut-mulhouse\n",
      "retrieve menu of the resto-u-de-colmar\n",
      "retrieve menu of the le-cristal-shop-ru-esplanade\n",
      "Download finished\n"
     ]
    }
   ],
   "source": [
    "all_ru_menu = {}\n",
    "n_days = 3\n",
    "meal_keys = ['breakfast','lunch','dinner']\n",
    "\n",
    "# Get all links for opened restaurants\n",
    "links = get_all_links()\n",
    "\n",
    "# Loop over the links, since it is a dict it with loop on the keys, wich are the names\n",
    "for name in links:\n",
    "    print('retrieve menu of the '+name)\n",
    "    # Get the content\n",
    "    page = get_page(links[name],\n",
    "                    element = 'ul',\n",
    "                    html_class = 'slides')\n",
    "    \n",
    "    # Clean dates and meals\n",
    "    dates = re.findall('<h3>(.*)</h3>',str(page))[:n_days]\n",
    "    restaurant = re.findall('<div class=\"content-repas\"><div>(.*?)</div>',str(page))[:n_days*3]\n",
    "    # update dict keys if the date is new\n",
    "    for date in dates:\n",
    "        if date not in all_ru_menu:\n",
    "            all_ru_menu.update({date:{meal:{} for meal in meal_keys}})\n",
    "    \n",
    "    # Loop over the content and use the keys to feed the dict\n",
    "    # Since there is 3 types of lunch we repeat dates thee times\n",
    "    date_meal_menu = zip(np.repeat(dates,3).tolist(),meal_keys*n_days,restaurant)\n",
    "    \n",
    "    for date, meal, meal_menu in date_meal_menu:\n",
    "        # Get the menu and clean it a bit\n",
    "        menu = get_menu(meal_menu)\n",
    "        \n",
    "        # if the menu is not empy\n",
    "        if bool(menu):\n",
    "            # update the dictionary with the name of the restaurant and the menu\n",
    "            all_ru_menu[date][meal].update({name:menu})\n",
    "    # ZzZzz\n",
    "    time.sleep(2)\n",
    "\n",
    "print('Download finished')\n"
   ]
  },
  {
   "cell_type": "code",
   "execution_count": 26,
   "metadata": {},
   "outputs": [
    {
     "data": {
      "text/plain": [
       "{'Menu du jeudi 28 janvier 2021': {'breakfast': {},\n",
       "  'lunch': {'resto-u-gallia': {'Menu étudiant': ['Risotto au bœuf',\n",
       "     'Escalope viennoise',\n",
       "     'Semoule',\n",
       "     'Légumes',\n",
       "     'Pizza paysanne'],\n",
       "    'Végétarien ou végétal': ['Clafoutis aux tomates cerises',\n",
       "     'Salade verte',\n",
       "     'Tchoutchouka'],\n",
       "    'Brasserie': ['menu non communiqué']},\n",
       "   'resto-u-paul-appell': {'Pôle végétal': ['Pâtes au fromage'],\n",
       "    'Flam and Co': ['Paëlla'],\n",
       "    'Plat du jour': ['VENTE A EMPORTER',\n",
       "     '1 Entrée ou 1 Soupe',\n",
       "     '1 Plat chaud',\n",
       "     '1 Dessert',\n",
       "     'Tarif 1€']},\n",
       "   'resto-u-esplanade': {'Pôle Ici et Ailleurs': ['Boulettes de viande (boeuf et porc) maison',\n",
       "     'Sauce forestière',\n",
       "     'Gratin dauphinois',\n",
       "     'Brocolis'],\n",
       "    'Pôle végétarien': ['Colombo de légumes au lait de coco'],\n",
       "    'Cristal Shop (RDC)': ['Burger du jour', 'Pizza du jour'],\n",
       "    'Desserts maison': ['Gâteau de patates douces maison'],\n",
       "    'Pôle Pêche du jour': ['menu non communiqué']},\n",
       "   'resto-u-cronenbourg': {'Grillades à emporter': ['POTATO BURGER',\n",
       "     'SALADE HONGROISE'],\n",
       "    'Plat du jour à emporter': ['ROUGAIL SAUCISSE', 'RIZ BASMATI AUX LEGUMES'],\n",
       "    'Végétarien à emporter': ['BAGUETTINE VEGETARIENNE']},\n",
       "   'resto-u-illkirch': {'Entrées chaudes et froides': ['Entrées variées, crudités'],\n",
       "    'DESSERT': ['Desserts variés, tartes maison'],\n",
       "    'Plat du jour': ['Spaghetti bolognaise',\n",
       "     'Galette de blé végétarienne',\n",
       "     'Chou de bruxelles',\n",
       "     'Purée'],\n",
       "    'Poelée': ['Emincé de porc à la moutarde', 'Chou de bruxelles', 'Purée']},\n",
       "   'resto-u-de-lillberg': {'Menu étudiant 1 €': ['Sauté de porc sauce curry',\n",
       "     'Filet de tilapia',\n",
       "     'Semoule aux raisins',\n",
       "     'Brocolis'],\n",
       "    'Plat brasseur et Green brasseur 4.30€HT/4.73€TTC': ['Emincé de veau à la crème',\n",
       "     'Tagliatelle',\n",
       "     'Trio de légumes']},\n",
       "   'resto-u-de-liut-mulhouse': {'Menu étudiant 1 €': ['Sauté de porc sauce curry',\n",
       "     'Filet de tilapia',\n",
       "     'Semoule aux raisins',\n",
       "     'Brocolis']},\n",
       "   'resto-u-de-colmar': {'Menu du jour': ['Entrée',\n",
       "     \"Boulettes d'ageau\",\n",
       "     'Filet de Tilapia',\n",
       "     'Semoule aux raisins',\n",
       "     'Brocolis aux champignons',\n",
       "     'Dessert'],\n",
       "    'La Pasta box': ['Sauce Curry à 3,00 euros',\n",
       "     'Sauce Moutarde à 3,00 euros'],\n",
       "    'Les grillades à la carte': ['Le Steak/Frites à 3,50 euros (l assiette)',\n",
       "     'Le Légumes/Féculents à 2,30 euros (l assiette)',\n",
       "     'Le Cornet de Frites à 2,30 euros (le cornet)',\n",
       "     'L Américain à 3,50 euros (le sandwich/frites)'],\n",
       "    'Les sandwichs': ['Le Classique à 2,20 euros HT',\n",
       "     '(Parisien ou Maraîcher ou Campagnard)',\n",
       "     'La formule Be Fit à préciser en caisse',\n",
       "     '(1 sandwich + 1 boisson + 1 dessert)',\n",
       "     'à 1 euro tarif Etudiant']},\n",
       "   'le-cristal-shop-ru-esplanade': {'Burger maison au choix': ['Bacon burger',\n",
       "     \"Burger de volaille, sauce moutarde à l'ancienne\",\n",
       "     'Burger végétarien',\n",
       "     'Formule avec frites'],\n",
       "    'Pizza maison au choix': ['Feta, olives et oignons rouges',\n",
       "     'Tomates fraiches et marinées, mozzarella'],\n",
       "    'Formule étudiant à 1,00 €': ['Formule Be Fit',\n",
       "     'Sandwich, eau plate ou gazeuse, fruit ou yaourt']}},\n",
       "  'dinner': {'resto-u-paul-appell': {'Pôle végétal': ['Curry de légumes au lait de coco',\n",
       "     'Riz'],\n",
       "    'Flam and Co': ['Pizza Reine', 'ou ', 'Blanquette de poisson', 'Pâtes'],\n",
       "    'Plat du jour': ['VENTE A EMPORTER',\n",
       "     '1 Entrée ou 1 Soupe',\n",
       "     '1 Plat chaud',\n",
       "     '1 Dessert',\n",
       "     'Tarif 1€']}}},\n",
       " 'Menu du vendredi 29 janvier 2021': {'breakfast': {},\n",
       "  'lunch': {'resto-u-gallia': {'Menu étudiant': ['Morbiflette',\n",
       "     'Salade verte',\n",
       "     'Pad Thaï de dinde'],\n",
       "    'Végétarien ou végétal': ['Enchillada aux légumes et chèvre'],\n",
       "    'Brasserie': ['menu non communiqué']},\n",
       "   'resto-u-esplanade': {'Pôle Ici et Ailleurs': ['menu non communiqué'],\n",
       "    'Pôle végétarien': ['Pizza végétarienne maison', 'Salade verte'],\n",
       "    'Cristal Shop (RDC)': ['Burger du jour', 'Pizza du jour'],\n",
       "    'Desserts maison': ['Financier aux myrtilles maison'],\n",
       "    'Pôle Pêche du jour': ['Tartiflette irlandaise', 'Salade verte']},\n",
       "   'resto-u-cronenbourg': {'Grillades à emporter': ['PAVE DE SAUMON',\n",
       "     \"SAUCE BEURRE BLANC ZESTES D'ORANGE\",\n",
       "     'EPINARDS AUX CITRONS CONFITS',\n",
       "     \"P. DE TERRE MAÎTRE D'HÔTEL\"],\n",
       "    'Plat du jour à emporter': ['CROQUE BRITISH'],\n",
       "    'Végétarien à emporter': ['PAD THAÏ AUX LÉGUMES',\n",
       "     'ET NOUILLES CHINOISES']},\n",
       "   'resto-u-illkirch': {'Entrées chaudes et froides': ['Entrées variées, crudités'],\n",
       "    'DESSERT': ['Desserts variés, tartes maison'],\n",
       "    'Plat du jour': ['Risotto vert petits pois courgettes'],\n",
       "    'Poelée': [\"Filet de colin aux confits d'oignons\",\n",
       "     'Chop suey de légumes',\n",
       "     'Riz thaï']},\n",
       "   'resto-u-de-lillberg': {'Menu étudiant 1 €': ['Pâtes bolognaise',\n",
       "     'Pâtes sauce thon'],\n",
       "    'Plat brasseur et Green brasseur 4.30€HT/4.73€TTC': ['Wok de poulet et nouilles sautées aux légumes']},\n",
       "   'resto-u-de-liut-mulhouse': {'Menu étudiant 1 €': ['Pâtes sauce bolognaise',\n",
       "     'Pâtes sauce thon']},\n",
       "   'resto-u-de-colmar': {'Menu du jour': ['Entrée',\n",
       "     'Sauce Bolognaise',\n",
       "     'Sauce au Thon',\n",
       "     'Spaghethis',\n",
       "     'Salade mélange',\n",
       "     'Dessert'],\n",
       "    'La Pasta box': [],\n",
       "    'Les grillades à la carte': ['Le Steak/Frites à 3,50 euros (l assiette)',\n",
       "     'Le Légumes/Féculents à 2,30 euros (l assiette)',\n",
       "     'Le Cornet de Frites à 2,30 euros (le cornet)',\n",
       "     'L Américain à 3,50 euros (le sandwich/frites)'],\n",
       "    'Les sandwichs': ['Le Classique à 2,20 euros HT',\n",
       "     '(Parisien ou Maraîcher ou Campagnard)',\n",
       "     'La formule Be Fit à préciser en caisse',\n",
       "     '(1 sandwich + 1 boisson + 1 dessert)',\n",
       "     'à 1 euro tarif Etudiant']},\n",
       "   'le-cristal-shop-ru-esplanade': {'Burger maison au choix': ['Burger de boeuf',\n",
       "     'Burger de volaille, sauce tartare',\n",
       "     'Burger végétarien',\n",
       "     'Formule avec frites'],\n",
       "    'Pizza maison au choix': ['4 fromages', 'Légumes du soleil'],\n",
       "    'Formule étudiant à 1,00 €': ['menu non communiqué']}},\n",
       "  'dinner': {}},\n",
       " 'Menu du lundi 1 février 2021': {'breakfast': {},\n",
       "  'lunch': {'resto-u-esplanade': {'Pôle Ici et Ailleurs': ['Spaghettis, sauce bolognaise'],\n",
       "    'Pôle végétarien': ['Panini tomates, mozzarella et basilic'],\n",
       "    'Cristal Shop (RDC)': ['Burger du jour', 'Pizza du jour'],\n",
       "    'Desserts maison': ['Chausson aux pommes'],\n",
       "    'Pôle Pêche du jour': ['menu non communiqué']},\n",
       "   'resto-u-cronenbourg': {'Grillades à emporter': ['KNACKS',\n",
       "     'LÉGUMES',\n",
       "     'FRITES'],\n",
       "    'Plat du jour à emporter': ['PENNE MATRICIANA'],\n",
       "    'Végétarien à emporter': ['BOUCHÉE DE BLÉ',\n",
       "     'HARICOTS AZUKI',\n",
       "     'PURÉE DE PATATE DOUCE']},\n",
       "   'resto-u-de-colmar': {'Menu du jour': ['Entrée',\n",
       "     'Tajine de boeuf aux poires',\n",
       "     'Riz pilaf',\n",
       "     'Ratatouille',\n",
       "     'Dessert',\n",
       "     'Ventes à emporter aux tarifs habituels',\n",
       "     '1,00 euros pour un Etudiant ',\n",
       "     '1,00 euros pour un Etudiant Boursier'],\n",
       "    'La Pasta box': [],\n",
       "    'Les grillades à la carte': ['Le Steak/Frites à 3,50 euros (l assiette)',\n",
       "     'Le Légumes/Féculents à 2,30 euros (l assiette)',\n",
       "     'Le Cornet de Frites à 2,30 euros (le cornet)',\n",
       "     'L Américain à 3,50 euros (le sandwich/frites)'],\n",
       "    'Les sandwichs': ['Le Classique à 2,20 euros HT',\n",
       "     '(Parisien ou Maraîcher ou Campagnard)',\n",
       "     'La formule Be Fit à préciser en caisse',\n",
       "     '(1 sandwich + 1 boisson + 1 dessert)',\n",
       "     'à 1,00 euros pour un Etudiant ',\n",
       "     'à 1,00 euros pour un Etudiant Boursier']},\n",
       "   'le-cristal-shop-ru-esplanade': {'Burger maison au choix': ['Burger de boeuf',\n",
       "     'Burger de volaille, sauce barbecue',\n",
       "     'Burger végétarien',\n",
       "     'Formule avec frites'],\n",
       "    'Pizza maison au choix': ['Chorizo', 'Pesto'],\n",
       "    'Formule étudiant à 1,00 €': ['menu non communiqué']}},\n",
       "  'dinner': {}}}"
      ]
     },
     "execution_count": 26,
     "metadata": {},
     "output_type": "execute_result"
    }
   ],
   "source": [
    "all_ru_menu"
   ]
  },
  {
   "cell_type": "markdown",
   "metadata": {},
   "source": [
    "- Finally! You can easily get information from your dict"
   ]
  },
  {
   "cell_type": "code",
   "execution_count": 27,
   "metadata": {},
   "outputs": [
    {
     "data": {
      "text/plain": [
       "{'Menu étudiant': ['Risotto au bœuf',\n",
       "  'Escalope viennoise',\n",
       "  'Semoule',\n",
       "  'Légumes',\n",
       "  'Pizza paysanne'],\n",
       " 'Végétarien ou végétal': ['Clafoutis aux tomates cerises',\n",
       "  'Salade verte',\n",
       "  'Tchoutchouka'],\n",
       " 'Brasserie': ['menu non communiqué']}"
      ]
     },
     "execution_count": 27,
     "metadata": {},
     "output_type": "execute_result"
    }
   ],
   "source": [
    "all_ru_menu['Menu du jeudi 28 janvier 2021']['lunch']['resto-u-gallia']"
   ]
  },
  {
   "cell_type": "markdown",
   "metadata": {},
   "source": [
    "- Now we can finish with a small user interface to make things more fancy !\n",
    "- Remerber that we saw an easy way of formatting strings, create a function to print out stuff with an index aside"
   ]
  },
  {
   "cell_type": "code",
   "execution_count": 28,
   "metadata": {},
   "outputs": [],
   "source": [
    "def show_item(list_):\n",
    "    i = 1\n",
    "    for item in list_:\n",
    "        print('%s : %s'%(str(i),item))\n",
    "        i+=1"
   ]
  },
  {
   "cell_type": "markdown",
   "metadata": {},
   "source": [
    "- Ask the user the rest using ```input()```"
   ]
  },
  {
   "cell_type": "code",
   "execution_count": 29,
   "metadata": {},
   "outputs": [
    {
     "name": "stdout",
     "output_type": "stream",
     "text": [
      "1 : Menu du jeudi 28 janvier 2021\n",
      "2 : Menu du vendredi 29 janvier 2021\n",
      "3 : Menu du lundi 1 février 2021\n",
      "Select the date (type the number aside)2\n",
      "1 : breakfast\n",
      "2 : lunch\n",
      "3 : dinner\n",
      "Select the meal (type the number aside)2\n",
      "1 : resto-u-gallia\n",
      "2 : resto-u-esplanade\n",
      "3 : resto-u-cronenbourg\n",
      "4 : resto-u-illkirch\n",
      "5 : resto-u-de-lillberg\n",
      "6 : resto-u-de-liut-mulhouse\n",
      "7 : resto-u-de-colmar\n",
      "8 : le-cristal-shop-ru-esplanade\n",
      "Select the restaurant (type the number aside)2\n",
      "Pôle Ici et Ailleurs :\n",
      "            ['menu non communiqué']\n",
      "              \n",
      "Pôle végétarien :\n",
      "            ['Pizza végétarienne maison', 'Salade verte']\n",
      "              \n",
      "Cristal Shop (RDC) :\n",
      "            ['Burger du jour', 'Pizza du jour']\n",
      "              \n",
      "Desserts maison :\n",
      "            ['Financier aux myrtilles maison']\n",
      "              \n",
      "Pôle Pêche du jour :\n",
      "            ['Tartiflette irlandaise', 'Salade verte']\n",
      "              \n",
      "Do you want to select another restaurant ? (Y/N)Y\n",
      "1 : resto-u-gallia\n",
      "2 : resto-u-esplanade\n",
      "3 : resto-u-cronenbourg\n",
      "4 : resto-u-illkirch\n",
      "5 : resto-u-de-lillberg\n",
      "6 : resto-u-de-liut-mulhouse\n",
      "7 : resto-u-de-colmar\n",
      "8 : le-cristal-shop-ru-esplanade\n",
      "Select the restaurant (type the number aside)1\n",
      "Menu étudiant :\n",
      "            ['Morbiflette', 'Salade verte', 'Pad Thaï de dinde']\n",
      "              \n",
      "Végétarien ou végétal :\n",
      "            ['Enchillada aux légumes et chèvre']\n",
      "              \n",
      "Brasserie :\n",
      "            ['menu non communiqué']\n",
      "              \n",
      "Do you want to select another restaurant ? (Y/N)N\n",
      "Do you want to quit ? (Y/N)Y\n"
     ]
    }
   ],
   "source": [
    "quit = 'N'\n",
    "change_rest = 'Y'\n",
    "while quit=='N':\n",
    "    dates = list(all_ru_menu.keys())\n",
    "    show_item(dates)\n",
    "    date_choosed = int(input('Select the date (type the number aside)'))\n",
    "    show_item(meal_keys)\n",
    "    meal_choosed = int(input('Select the meal (type the number aside)'))\n",
    "    restaurants = list(all_ru_menu[dates[date_choosed-1]][meal_keys[meal_choosed-1]].keys())\n",
    "    while change_rest == 'Y':\n",
    "        show_item(restaurants)\n",
    "        rest_choosed = int(input('Select the restaurant (type the number aside)'))\n",
    "        menu = all_ru_menu[dates[date_choosed-1]][meal_keys[meal_choosed-1]][restaurants[rest_choosed-1]]\n",
    "        for meal in menu:\n",
    "            print('''%s :\n",
    "            %s\n",
    "              '''%(meal,menu[meal]))\n",
    "        change_rest = input('Do you want to select another restaurant ? (Y/N)')\n",
    "    \n",
    "    \n",
    "    quit = input('Do you want to quit ? (Y/N)')"
   ]
  }
 ],
 "metadata": {
  "kernelspec": {
   "display_name": "Python 3",
   "language": "python",
   "name": "python3"
  },
  "language_info": {
   "codemirror_mode": {
    "name": "ipython",
    "version": 3
   },
   "file_extension": ".py",
   "mimetype": "text/x-python",
   "name": "python",
   "nbconvert_exporter": "python",
   "pygments_lexer": "ipython3",
   "version": "3.8.3"
  }
 },
 "nbformat": 4,
 "nbformat_minor": 4
}
